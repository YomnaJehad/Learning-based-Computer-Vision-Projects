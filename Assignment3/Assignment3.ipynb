{
 "cells": [
  {
   "cell_type": "markdown",
   "id": "5ffec109",
   "metadata": {},
   "source": [
    "# CNNs, Keras API and Regression"
   ]
  },
  {
   "cell_type": "code",
   "execution_count": 1,
   "id": "f869bf7c",
   "metadata": {},
   "outputs": [],
   "source": [
    "# import necessariy libraries\n",
    "from skimage.io import imread\n",
    "from skimage.transform import resize\n",
    "\n",
    "import numpy as np\n",
    "from numpy import asarray\n",
    "from matplotlib import pyplot\n",
    "import os\n",
    "\n",
    "%matplotlib inline\n",
    "import matplotlib\n",
    "import matplotlib.pyplot as plt\n",
    "\n",
    "from sklearn.model_selection import train_test_split"
   ]
  },
  {
   "cell_type": "markdown",
   "id": "5292d47b",
   "metadata": {},
   "source": [
    "# Data Preparation"
   ]
  },
  {
   "cell_type": "code",
   "execution_count": 2,
   "id": "73b645a8",
   "metadata": {},
   "outputs": [],
   "source": [
    "def data_loader ():\n",
    "    \n",
    "    train_test_path = ['training/' ,'testing/']\n",
    "    folders_names = ['1/', '2/', '3/', '4/', '6/']\n",
    "\n",
    "    train_1, train_2, train_3, train_4, train_6 = [], [], [], [], []\n",
    "    test_1, test_2, test_3, test_4, test_6 = [], [], [], [], []\n",
    "    images_list = [[train_1, train_2, train_3, train_4, train_6],\n",
    "                   [test_1, test_2, test_3, test_4, test_6]]\n",
    "    for i in range (0,2):\n",
    "\n",
    "        # extract a list of file names in each directory\n",
    "        folders_list = os.listdir( train_test_path[i] )\n",
    "        print('Numebr of folders in',train_test_path[i],': ' ,len(folders_list))\n",
    "\n",
    "        for j, item in enumerate(folders_list):\n",
    "            files_list = os.listdir( train_test_path[i]+item+'/' )\n",
    "            for k,file in enumerate(files_list):\n",
    "                image = imread(train_test_path[i]+item+'/'+file)\n",
    "\n",
    "                resized = resize(image, (64, 64), preserve_range=True) \n",
    "#                 gray = rgb2gray(resized)\n",
    "                images_list[i][j].append(np.array(resized))\n",
    "#                 pyplot.imshow(image)\n",
    "#                 pyplot.show()\n",
    "            images_list[i][j] = np.array(images_list[i][j])\n",
    "        images_list[i] = np.array(images_list[i])\n",
    "\n",
    "    train_1, train_2, train_3, train_4, train_6 = images_list[0][0], images_list[0][1], images_list[0][2], images_list[0][3], images_list[0][4]\n",
    "    test_1, test_2, test_3, test_4, test_6 = images_list[1][0], images_list[1][1], images_list[1][2], images_list[1][3], images_list[1][4]\n",
    "    # Create train set\n",
    "    X_train = np.concatenate([train_1, train_2, train_3, train_4, train_6])\n",
    "    # Create label for train set\n",
    "    y_train = np.zeros (X_train.shape[0])\n",
    "    y_train[0:train_1.shape[0]] = 0\n",
    "    y_train[train_1.shape[0]:train_1.shape[0]+train_2.shape[0]] = 1\n",
    "    y_train[train_1.shape[0]+train_2.shape[0]:train_1.shape[0]+train_2.shape[0]+train_3.shape[0]] = 2\n",
    "    y_train[train_1.shape[0]+train_2.shape[0]+train_3.shape[0]:train_1.shape[0]+train_2.shape[0]+train_3.shape[0]+train_4.shape[0]] = 3\n",
    "    y_train[train_1.shape[0]+train_2.shape[0]+train_3.shape[0]+train_4.shape[0]:train_1.shape[0]+train_2.shape[0]+train_3.shape[0]+train_4.shape[0]+train_6.shape[0]] = 4\n",
    "    \n",
    "    # Creat test set\n",
    "    X_test = np.concatenate([test_1, test_2, test_3, test_4, test_6])\n",
    "    # Create label for test set\n",
    "    y_test = np.zeros (X_test.shape[0])\n",
    "    y_test[0:test_1.shape[0]] = 0\n",
    "    y_test[test_1.shape[0]:test_1.shape[0]+test_2.shape[0]] = 1\n",
    "    y_test[test_1.shape[0]+test_2.shape[0]:test_1.shape[0]+test_2.shape[0]+test_3.shape[0]] = 2\n",
    "    y_test[test_1.shape[0]+test_2.shape[0]+test_3.shape[0]:test_1.shape[0]+test_2.shape[0]+test_3.shape[0]+test_4.shape[0]] = 3\n",
    "    y_test[test_1.shape[0]+test_2.shape[0]+test_3.shape[0]+test_4.shape[0]:test_1.shape[0]+test_2.shape[0]+test_3.shape[0]+test_4.shape[0]+test_6.shape[0]] = 4\n",
    "    \n",
    "    return X_train, X_test, y_train, y_test"
   ]
  },
  {
   "cell_type": "code",
   "execution_count": 3,
   "id": "f7bdde2d",
   "metadata": {},
   "outputs": [],
   "source": [
    "def plot_learning_curves (history):\n",
    "  # dictionary keys seems to have changed in version 2\n",
    "    k = ''\n",
    "    if 'accuracy' in history.history :\n",
    "        k = 'accuracy'    \n",
    "\n",
    "    if 'acc' in history.history :\n",
    "        k = 'acc'\n",
    "\n",
    "    if k != '' :    \n",
    "        plt.plot(history.history[k])\n",
    "        plt.plot(history.history['val_'+k])\n",
    "        plt.title('Model Accuracy')\n",
    "        plt.ylabel('Accuracy')\n",
    "        plt.xlabel('Epoch')\n",
    "        plt.legend(['train', 'validation'], loc='upper left')\n",
    "        plt.show()\n",
    "\n",
    "    plt.plot(history.history['loss'])\n",
    "    plt.plot(history.history['val_loss'])\n",
    "    plt.title('Model loss')\n",
    "    plt.ylabel('Loss')\n",
    "    plt.xlabel('Epoch')\n",
    "    plt.legend(['train', 'validation'], loc='upper left')\n",
    "    plt.show()\n",
    "\n"
   ]
  },
  {
   "cell_type": "code",
   "execution_count": 4,
   "id": "73c7cdf5",
   "metadata": {},
   "outputs": [],
   "source": [
    "def compile_train_vgg (vgg_model, X_train, y_train, X_val, y_val, batchSize=128, nEpochs=8, loss='sparse_categorical_crossentropy', metrics=['accuracy']):\n",
    "    \n",
    "    sgd = tensorflow.keras.optimizers.SGD(lr=0.0008)\n",
    "    vgg_model.compile(loss=loss, \n",
    "                               optimizer=sgd, \n",
    "                               metrics=metrics)\n",
    "\n",
    "\n",
    "    history = vgg_model.fit(X_train, y_train, batch_size=batchSize, epochs=nEpochs, verbose=1, \n",
    "                                     validation_data=(X_val, y_val))\n",
    "\n",
    "    return vgg_model, history"
   ]
  },
  {
   "cell_type": "code",
   "execution_count": 5,
   "id": "821adc0c",
   "metadata": {},
   "outputs": [],
   "source": [
    "from sklearn.metrics import confusion_matrix\n",
    "def plot_confusion_matrix(matrix):\n",
    "    \"\"\"If you prefer color and a colorbar\"\"\"\n",
    "    fig = plt.figure(figsize=(8,8))\n",
    "    ax = fig.add_subplot(111)\n",
    "    cax = ax.matshow(matrix)\n",
    "    fig.colorbar(cax)"
   ]
  },
  {
   "cell_type": "code",
   "execution_count": 136,
   "id": "b7bccb43",
   "metadata": {},
   "outputs": [],
   "source": [
    "def calc_plot_confusion_matrix(vgg_model, X, y):\n",
    "    y_predict_prob = vgg_model.predict(X)\n",
    "    y_predict = y_predict_prob.argmax(axis=-1)\n",
    "    conf_mx = confusion_matrix(y, y_predict)\n",
    "    print('Confusion matrix: \\n{0}'.format(conf_mx))\n",
    "    \n",
    "    row_sums = conf_mx.sum(axis=1, keepdims=True)\n",
    "    norm_conf_mx = conf_mx / row_sums\n",
    "    np.fill_diagonal(norm_conf_mx, 0)\n",
    "    # plt.matshow(norm_conf_mx, cmap=plt.cm.gray)\n",
    "    plot_confusion_matrix(norm_conf_mx)\n",
    "    plt.show()\n",
    "    return conf_mx"
   ]
  },
  {
   "cell_type": "code",
   "execution_count": 7,
   "id": "171b9171",
   "metadata": {},
   "outputs": [
    {
     "name": "stdout",
     "output_type": "stream",
     "text": [
      "Numebr of folders in training/ :  5\n",
      "Numebr of folders in testing/ :  5\n",
      "(900, 64, 64, 3) (100, 64, 64, 3) (900,) (100,)\n"
     ]
    },
    {
     "data": {
      "text/plain": [
       "array([[  0., 180.],\n",
       "       [  1., 180.],\n",
       "       [  2., 180.],\n",
       "       [  3., 180.],\n",
       "       [  4., 180.]])"
      ]
     },
     "execution_count": 7,
     "metadata": {},
     "output_type": "execute_result"
    }
   ],
   "source": [
    "X, X_test, y, y_test = data_loader()\n",
    "print( X.shape , X_test.shape, y.shape, y_test.shape )\n",
    "unique, counts = np.unique(y, return_counts=True)\n",
    "np.asarray((unique, counts)).T  "
   ]
  },
  {
   "cell_type": "code",
   "execution_count": 8,
   "id": "bb15961b",
   "metadata": {},
   "outputs": [
    {
     "data": {
      "image/png": "[encoded data removed]",
      "text/plain": [
       "<Figure size 432x288 with 1 Axes>"
      ]
     },
     "metadata": {
      "needs_background": "light"
     },
     "output_type": "display_data"
    }
   ],
   "source": [
    "pyplot.imshow((X[0]).astype(np.uint8))\n",
    "pyplot.show()"
   ]
  },
  {
   "cell_type": "code",
   "execution_count": 9,
   "id": "acba9c7e",
   "metadata": {},
   "outputs": [],
   "source": [
    "X_train, X_val, y_train, y_val = train_test_split(X, y, test_size=1.0/7, stratify=y, shuffle=True, random_state=42)\n"
   ]
  },
  {
   "cell_type": "markdown",
   "id": "228977e8",
   "metadata": {},
   "source": [
    "_____"
   ]
  },
  {
   "cell_type": "markdown",
   "id": "db3ddcfc",
   "metadata": {},
   "source": [
    "# Basic Transfer Learning"
   ]
  },
  {
   "cell_type": "code",
   "execution_count": 10,
   "id": "3b2d5e13",
   "metadata": {},
   "outputs": [],
   "source": [
    "import tensorflow as tf\n",
    "import tensorflow.keras\n",
    "from tensorflow.keras.models import Model\n",
    "from tensorflow.keras.layers import Dense, Flatten, Conv2D, MaxPooling2D, BatchNormalization, Dropout\n",
    "from tensorflow.keras.applications import VGG16"
   ]
  },
  {
   "cell_type": "code",
   "execution_count": 12,
   "id": "808f149c",
   "metadata": {},
   "outputs": [
    {
     "name": "stdout",
     "output_type": "stream",
     "text": [
      "Model: \"model\"\n",
      "_________________________________________________________________\n",
      "Layer (type)                 Output Shape              Param #   \n",
      "=================================================================\n",
      "input_1 (InputLayer)         [(None, 64, 64, 3)]       0         \n",
      "_________________________________________________________________\n",
      "block1_conv1 (Conv2D)        (None, 64, 64, 64)        1792      \n",
      "_________________________________________________________________\n",
      "block1_conv2 (Conv2D)        (None, 64, 64, 64)        36928     \n",
      "_________________________________________________________________\n",
      "block1_pool (MaxPooling2D)   (None, 32, 32, 64)        0         \n",
      "_________________________________________________________________\n",
      "block2_conv1 (Conv2D)        (None, 32, 32, 128)       73856     \n",
      "_________________________________________________________________\n",
      "block2_conv2 (Conv2D)        (None, 32, 32, 128)       147584    \n",
      "_________________________________________________________________\n",
      "block2_pool (MaxPooling2D)   (None, 16, 16, 128)       0         \n",
      "=================================================================\n",
      "Total params: 260,160\n",
      "Trainable params: 260,160\n",
      "Non-trainable params: 0\n",
      "_________________________________________________________________\n"
     ]
    }
   ],
   "source": [
    "vgg_model_base = Model(vgg_model_raw.input, vgg_model_raw.layers[-13].output)\n",
    "vgg_model_base.summary()"
   ]
  },
  {
   "cell_type": "code",
   "execution_count": 13,
   "id": "9cc09110",
   "metadata": {},
   "outputs": [],
   "source": [
    "# prepare for transfer learning\n",
    "for layer in vgg_model_base.layers:\n",
    "    layer.trainable = False"
   ]
  },
  {
   "cell_type": "markdown",
   "id": "c258e479",
   "metadata": {},
   "source": [
    "## Classification Network"
   ]
  },
  {
   "cell_type": "markdown",
   "id": "5059e63c",
   "metadata": {},
   "source": [
    "### Try adding only [Flatten, Softmax] layers"
   ]
  },
  {
   "cell_type": "code",
   "execution_count": 14,
   "id": "27fd7652",
   "metadata": {},
   "outputs": [
    {
     "name": "stdout",
     "output_type": "stream",
     "text": [
      "Model: \"model_1\"\n",
      "_________________________________________________________________\n",
      "Layer (type)                 Output Shape              Param #   \n",
      "=================================================================\n",
      "input_1 (InputLayer)         [(None, 64, 64, 3)]       0         \n",
      "_________________________________________________________________\n",
      "block1_conv1 (Conv2D)        (None, 64, 64, 64)        1792      \n",
      "_________________________________________________________________\n",
      "block1_conv2 (Conv2D)        (None, 64, 64, 64)        36928     \n",
      "_________________________________________________________________\n",
      "block1_pool (MaxPooling2D)   (None, 32, 32, 64)        0         \n",
      "_________________________________________________________________\n",
      "block2_conv1 (Conv2D)        (None, 32, 32, 128)       73856     \n",
      "_________________________________________________________________\n",
      "block2_conv2 (Conv2D)        (None, 32, 32, 128)       147584    \n",
      "_________________________________________________________________\n",
      "block2_pool (MaxPooling2D)   (None, 16, 16, 128)       0         \n",
      "_________________________________________________________________\n",
      "flatten (Flatten)            (None, 32768)             0         \n",
      "_________________________________________________________________\n",
      "dense (Dense)                (None, 5)                 163845    \n",
      "=================================================================\n",
      "Total params: 424,005\n",
      "Trainable params: 163,845\n",
      "Non-trainable params: 260,160\n",
      "_________________________________________________________________\n"
     ]
    }
   ],
   "source": [
    "x = vgg_model_base.layers[-1].output\n",
    "predictions = Flatten()(x)\n",
    "predictions = Dense(5, activation='softmax')(predictions)\n",
    "\n",
    "vgg_model_class = Model(inputs=vgg_model_base.input, outputs=predictions) \n",
    "vgg_model_class.summary()"
   ]
  },
  {
   "cell_type": "code",
   "execution_count": 15,
   "id": "8124486b",
   "metadata": {},
   "outputs": [
    {
     "name": "stdout",
     "output_type": "stream",
     "text": [
      "Epoch 1/8\n",
      "7/7 [==============================] - 5s 491ms/step - loss: 1377211.2963 - accuracy: 0.2184 - val_loss: 4096851.5000 - val_accuracy: 0.1938\n",
      "Epoch 2/8\n",
      "7/7 [==============================] - 3s 435ms/step - loss: 3457207.5625 - accuracy: 0.1904 - val_loss: 3014003.7500 - val_accuracy: 0.2016\n",
      "Epoch 3/8\n",
      "7/7 [==============================] - 3s 424ms/step - loss: 2480389.6875 - accuracy: 0.2147 - val_loss: 3180307.2500 - val_accuracy: 0.1938\n",
      "Epoch 4/8\n",
      "7/7 [==============================] - 3s 453ms/step - loss: 2573151.3750 - accuracy: 0.2139 - val_loss: 4641563.5000 - val_accuracy: 0.1938\n",
      "Epoch 5/8\n",
      "7/7 [==============================] - 3s 463ms/step - loss: 2093420.1250 - accuracy: 0.3067 - val_loss: 4695679.0000 - val_accuracy: 0.2016\n",
      "Epoch 6/8\n",
      "7/7 [==============================] - 3s 468ms/step - loss: 2523746.6875 - accuracy: 0.2603 - val_loss: 2920779.2500 - val_accuracy: 0.2481\n",
      "Epoch 7/8\n",
      "7/7 [==============================] - 3s 458ms/step - loss: 1791162.7031 - accuracy: 0.3052 - val_loss: 1067059.2500 - val_accuracy: 0.2868\n",
      "Epoch 8/8\n",
      "7/7 [==============================] - 3s 420ms/step - loss: 650661.5039 - accuracy: 0.4258 - val_loss: 2851730.5000 - val_accuracy: 0.3178\n"
     ]
    }
   ],
   "source": [
    "model_trained_class, history_trained_class = compile_train_vgg (vgg_model_class, X_train, y_train, X_val, y_val, batchSize=128, nEpochs=8, loss='sparse_categorical_crossentropy')"
   ]
  },
  {
   "cell_type": "code",
   "execution_count": 16,
   "id": "c7484254",
   "metadata": {},
   "outputs": [
    {
     "data": {
      "image/png": "[encoded data removed]",
      "text/plain": [
       "<Figure size 432x288 with 1 Axes>"
      ]
     },
     "metadata": {
      "needs_background": "light"
     },
     "output_type": "display_data"
    },
    {
     "data": {
      "image/png": "[encoded data removed]",
      "text/plain": [
       "<Figure size 432x288 with 1 Axes>"
      ]
     },
     "metadata": {
      "needs_background": "light"
     },
     "output_type": "display_data"
    }
   ],
   "source": [
    "plot_learning_curves(history_trained_class)"
   ]
  },
  {
   "cell_type": "code",
   "execution_count": 151,
   "id": "c705ed57",
   "metadata": {},
   "outputs": [
    {
     "name": "stdout",
     "output_type": "stream",
     "text": [
      "Confusion matrix: \n",
      "[[ 69  14   0  71   0]\n",
      " [  1  83   0  71   0]\n",
      " [  3  20   0 131   0]\n",
      " [  0   2   0 152   0]\n",
      " [  1   7   0 146   0]]\n"
     ]
    },
    {
     "data": {
      "image/png": "[encoded data removed]",
      "text/plain": [
       "<Figure size 576x576 with 2 Axes>"
      ]
     },
     "metadata": {
      "needs_background": "light"
     },
     "output_type": "display_data"
    },
    {
     "data": {
      "text/plain": [
       "array([[ 69,  14,   0,  71,   0],\n",
       "       [  1,  83,   0,  71,   0],\n",
       "       [  3,  20,   0, 131,   0],\n",
       "       [  0,   2,   0, 152,   0],\n",
       "       [  1,   7,   0, 146,   0]])"
      ]
     },
     "execution_count": 151,
     "metadata": {},
     "output_type": "execute_result"
    }
   ],
   "source": [
    "calc_plot_confusion_matrix(model_trained_class, X_train, y_train)"
   ]
  },
  {
   "cell_type": "code",
   "execution_count": 17,
   "id": "ebbc9348",
   "metadata": {},
   "outputs": [
    {
     "name": "stdout",
     "output_type": "stream",
     "text": [
      "Confusion matrix: \n",
      "[[ 9  3  0 14  0]\n",
      " [ 0  8  0 17  0]\n",
      " [ 1  3  0 22  0]\n",
      " [ 0  2  0 24  0]\n",
      " [ 0  4  0 22  0]]\n"
     ]
    },
    {
     "data": {
      "image/png": "[encoded data removed]",
      "text/plain": [
       "<Figure size 576x576 with 2 Axes>"
      ]
     },
     "metadata": {
      "needs_background": "light"
     },
     "output_type": "display_data"
    }
   ],
   "source": [
    "calc_plot_confusion_matrix(model_trained_class, X_val, y_val)"
   ]
  },
  {
   "cell_type": "code",
   "execution_count": 18,
   "id": "db7ee9bc",
   "metadata": {},
   "outputs": [
    {
     "name": "stdout",
     "output_type": "stream",
     "text": [
      "Confusion matrix: \n",
      "[[ 7  4  0  9  0]\n",
      " [ 1  5  0 14  0]\n",
      " [ 0  3  0 17  0]\n",
      " [ 0  1  0 19  0]\n",
      " [ 0  2  0 18  0]]\n"
     ]
    },
    {
     "data": {
      "image/png": "[encoded data removed]",
      "text/plain": [
       "<Figure size 576x576 with 2 Axes>"
      ]
     },
     "metadata": {
      "needs_background": "light"
     },
     "output_type": "display_data"
    }
   ],
   "source": [
    "calc_plot_confusion_matrix(model_trained_class, X_test, y_test)"
   ]
  },
  {
   "cell_type": "markdown",
   "id": "2a67dd93",
   "metadata": {},
   "source": [
    "### Try adding [FC, Flatten, Softmax, FC] layers"
   ]
  },
  {
   "cell_type": "code",
   "execution_count": 19,
   "id": "d2db43b1",
   "metadata": {},
   "outputs": [
    {
     "data": {
      "image/png": "[encoded data removed]",
      "text/plain": [
       "<Figure size 432x288 with 1 Axes>"
      ]
     },
     "metadata": {
      "needs_background": "light"
     },
     "output_type": "display_data"
    }
   ],
   "source": [
    "pyplot.imshow((X_train[0]).astype(np.uint8))\n",
    "pyplot.show()"
   ]
  },
  {
   "cell_type": "code",
   "execution_count": 20,
   "id": "eca637fe",
   "metadata": {},
   "outputs": [
    {
     "name": "stdout",
     "output_type": "stream",
     "text": [
      "Model: \"model_2\"\n",
      "_________________________________________________________________\n",
      "Layer (type)                 Output Shape              Param #   \n",
      "=================================================================\n",
      "input_1 (InputLayer)         [(None, 64, 64, 3)]       0         \n",
      "_________________________________________________________________\n",
      "block1_conv1 (Conv2D)        (None, 64, 64, 64)        1792      \n",
      "_________________________________________________________________\n",
      "block1_conv2 (Conv2D)        (None, 64, 64, 64)        36928     \n",
      "_________________________________________________________________\n",
      "block1_pool (MaxPooling2D)   (None, 32, 32, 64)        0         \n",
      "_________________________________________________________________\n",
      "block2_conv1 (Conv2D)        (None, 32, 32, 128)       73856     \n",
      "_________________________________________________________________\n",
      "block2_conv2 (Conv2D)        (None, 32, 32, 128)       147584    \n",
      "_________________________________________________________________\n",
      "block2_pool (MaxPooling2D)   (None, 16, 16, 128)       0         \n",
      "_________________________________________________________________\n",
      "dense_1 (Dense)              (None, 16, 16, 64)        8256      \n",
      "_________________________________________________________________\n",
      "flatten_1 (Flatten)          (None, 16384)             0         \n",
      "_________________________________________________________________\n",
      "dense_2 (Dense)              (None, 32)                524320    \n",
      "_________________________________________________________________\n",
      "dense_3 (Dense)              (None, 5)                 165       \n",
      "=================================================================\n",
      "Total params: 792,901\n",
      "Trainable params: 532,741\n",
      "Non-trainable params: 260,160\n",
      "_________________________________________________________________\n"
     ]
    }
   ],
   "source": [
    "x = vgg_model_base.layers[-1].output\n",
    "\n",
    "predictions = Dense(64, activation = 'sigmoid')(x)\n",
    "predictions = Flatten()(predictions)\n",
    "predictions = Dense(32, activation = 'sigmoid')(predictions)\n",
    "predictions = Dense(5, activation='softmax')(predictions)\n",
    "\n",
    "vgg_model_class2 = Model(inputs=vgg_model_base.input, outputs=predictions) \n",
    "vgg_model_class2.summary()"
   ]
  },
  {
   "cell_type": "code",
   "execution_count": 21,
   "id": "d2023c66",
   "metadata": {},
   "outputs": [
    {
     "name": "stdout",
     "output_type": "stream",
     "text": [
      "Epoch 1/32\n",
      "7/7 [==============================] - 4s 493ms/step - loss: 1.8531 - accuracy: 0.2004 - val_loss: 1.7537 - val_accuracy: 0.1783\n",
      "Epoch 2/32\n",
      "7/7 [==============================] - 3s 459ms/step - loss: 1.7293 - accuracy: 0.1808 - val_loss: 1.6826 - val_accuracy: 0.2171\n",
      "Epoch 3/32\n",
      "7/7 [==============================] - 3s 478ms/step - loss: 1.6917 - accuracy: 0.1574 - val_loss: 1.6475 - val_accuracy: 0.1938\n",
      "Epoch 4/32\n",
      "7/7 [==============================] - 3s 455ms/step - loss: 1.6475 - accuracy: 0.1569 - val_loss: 1.6162 - val_accuracy: 0.1938\n",
      "Epoch 5/32\n",
      "7/7 [==============================] - 3s 468ms/step - loss: 1.6247 - accuracy: 0.1769 - val_loss: 1.6150 - val_accuracy: 0.2248\n",
      "Epoch 6/32\n",
      "7/7 [==============================] - 3s 456ms/step - loss: 1.6145 - accuracy: 0.1976 - val_loss: 1.6157 - val_accuracy: 0.2171\n",
      "Epoch 7/32\n",
      "7/7 [==============================] - 3s 463ms/step - loss: 1.6134 - accuracy: 0.2148 - val_loss: 1.6123 - val_accuracy: 0.2326\n",
      "Epoch 8/32\n",
      "7/7 [==============================] - 3s 465ms/step - loss: 1.6095 - accuracy: 0.1985 - val_loss: 1.6066 - val_accuracy: 0.2016\n",
      "Epoch 9/32\n",
      "7/7 [==============================] - 3s 463ms/step - loss: 1.6041 - accuracy: 0.2220 - val_loss: 1.6113 - val_accuracy: 0.2093\n",
      "Epoch 10/32\n",
      "7/7 [==============================] - 3s 466ms/step - loss: 1.6085 - accuracy: 0.2056 - val_loss: 1.6105 - val_accuracy: 0.2403\n",
      "Epoch 11/32\n",
      "7/7 [==============================] - 3s 455ms/step - loss: 1.6033 - accuracy: 0.2071 - val_loss: 1.6115 - val_accuracy: 0.2403\n",
      "Epoch 12/32\n",
      "7/7 [==============================] - 3s 425ms/step - loss: 1.6034 - accuracy: 0.2127 - val_loss: 1.6029 - val_accuracy: 0.3023\n",
      "Epoch 13/32\n",
      "7/7 [==============================] - 3s 445ms/step - loss: 1.5982 - accuracy: 0.2070 - val_loss: 1.6037 - val_accuracy: 0.2403\n",
      "Epoch 14/32\n",
      "7/7 [==============================] - 3s 452ms/step - loss: 1.5972 - accuracy: 0.1923 - val_loss: 1.6052 - val_accuracy: 0.2481\n",
      "Epoch 15/32\n",
      "7/7 [==============================] - 3s 465ms/step - loss: 1.6027 - accuracy: 0.2133 - val_loss: 1.6016 - val_accuracy: 0.2326\n",
      "Epoch 16/32\n",
      "7/7 [==============================] - 3s 486ms/step - loss: 1.5936 - accuracy: 0.2400 - val_loss: 1.6047 - val_accuracy: 0.2326\n",
      "Epoch 17/32\n",
      "7/7 [==============================] - 3s 488ms/step - loss: 1.5943 - accuracy: 0.2114 - val_loss: 1.6064 - val_accuracy: 0.2016\n",
      "Epoch 18/32\n",
      "7/7 [==============================] - 3s 456ms/step - loss: 1.5987 - accuracy: 0.2366 - val_loss: 1.6165 - val_accuracy: 0.1938\n",
      "Epoch 19/32\n",
      "7/7 [==============================] - 3s 441ms/step - loss: 1.6071 - accuracy: 0.1977 - val_loss: 1.6016 - val_accuracy: 0.2481\n",
      "Epoch 20/32\n",
      "7/7 [==============================] - 3s 452ms/step - loss: 1.5854 - accuracy: 0.2618 - val_loss: 1.6034 - val_accuracy: 0.2248\n",
      "Epoch 21/32\n",
      "7/7 [==============================] - 3s 474ms/step - loss: 1.5881 - accuracy: 0.2490 - val_loss: 1.6052 - val_accuracy: 0.2016\n",
      "Epoch 22/32\n",
      "7/7 [==============================] - 3s 454ms/step - loss: 1.5854 - accuracy: 0.2494 - val_loss: 1.6005 - val_accuracy: 0.2093\n",
      "Epoch 23/32\n",
      "7/7 [==============================] - 3s 462ms/step - loss: 1.5877 - accuracy: 0.2556 - val_loss: 1.5993 - val_accuracy: 0.2791\n",
      "Epoch 24/32\n",
      "7/7 [==============================] - 3s 441ms/step - loss: 1.5806 - accuracy: 0.2729 - val_loss: 1.6034 - val_accuracy: 0.2326\n",
      "Epoch 25/32\n",
      "7/7 [==============================] - 3s 456ms/step - loss: 1.5901 - accuracy: 0.2600 - val_loss: 1.5988 - val_accuracy: 0.2326\n",
      "Epoch 26/32\n",
      "7/7 [==============================] - 3s 437ms/step - loss: 1.5825 - accuracy: 0.2667 - val_loss: 1.5975 - val_accuracy: 0.2636\n",
      "Epoch 27/32\n",
      "7/7 [==============================] - 3s 419ms/step - loss: 1.5817 - accuracy: 0.2357 - val_loss: 1.5973 - val_accuracy: 0.2016\n",
      "Epoch 28/32\n",
      "7/7 [==============================] - 3s 442ms/step - loss: 1.5782 - accuracy: 0.2782 - val_loss: 1.5963 - val_accuracy: 0.2326\n",
      "Epoch 29/32\n",
      "7/7 [==============================] - 3s 441ms/step - loss: 1.5773 - accuracy: 0.2701 - val_loss: 1.6018 - val_accuracy: 0.2093\n",
      "Epoch 30/32\n",
      "7/7 [==============================] - 3s 432ms/step - loss: 1.5784 - accuracy: 0.2606 - val_loss: 1.5956 - val_accuracy: 0.2403\n",
      "Epoch 31/32\n",
      "7/7 [==============================] - 3s 487ms/step - loss: 1.5737 - accuracy: 0.2809 - val_loss: 1.5944 - val_accuracy: 0.2636\n",
      "Epoch 32/32\n",
      "7/7 [==============================] - 3s 452ms/step - loss: 1.5715 - accuracy: 0.3241 - val_loss: 1.5974 - val_accuracy: 0.2326\n"
     ]
    }
   ],
   "source": [
    "model_trained_class2, history_trained_class2 = compile_train_vgg (vgg_model_class2, X_train, y_train, X_val, y_val, batchSize=128, nEpochs=32, loss='sparse_categorical_crossentropy')"
   ]
  },
  {
   "cell_type": "code",
   "execution_count": 22,
   "id": "2e3ff5df",
   "metadata": {},
   "outputs": [
    {
     "data": {
      "image/png": "[encoded data removed]",
      "text/plain": [
       "<Figure size 432x288 with 1 Axes>"
      ]
     },
     "metadata": {
      "needs_background": "light"
     },
     "output_type": "display_data"
    },
    {
     "data": {
      "image/png": "[encoded data removed]",
      "text/plain": [
       "<Figure size 432x288 with 1 Axes>"
      ]
     },
     "metadata": {
      "needs_background": "light"
     },
     "output_type": "display_data"
    }
   ],
   "source": [
    "plot_learning_curves(history_trained_class2)"
   ]
  },
  {
   "cell_type": "code",
   "execution_count": 152,
   "id": "ebf41694",
   "metadata": {},
   "outputs": [
    {
     "name": "stdout",
     "output_type": "stream",
     "text": [
      "Confusion matrix: \n",
      "[[24 70 38  7 15]\n",
      " [ 7 87 50  8  3]\n",
      " [ 6 59 80  4  5]\n",
      " [ 4 61 55 23 11]\n",
      " [ 7 60 61 14 12]]\n"
     ]
    },
    {
     "data": {
      "image/png": "[encoded data removed]",
      "text/plain": [
       "<Figure size 576x576 with 2 Axes>"
      ]
     },
     "metadata": {
      "needs_background": "light"
     },
     "output_type": "display_data"
    },
    {
     "data": {
      "text/plain": [
       "array([[24, 70, 38,  7, 15],\n",
       "       [ 7, 87, 50,  8,  3],\n",
       "       [ 6, 59, 80,  4,  5],\n",
       "       [ 4, 61, 55, 23, 11],\n",
       "       [ 7, 60, 61, 14, 12]])"
      ]
     },
     "execution_count": 152,
     "metadata": {},
     "output_type": "execute_result"
    }
   ],
   "source": [
    "calc_plot_confusion_matrix(model_trained_class2, X_train, y_train)"
   ]
  },
  {
   "cell_type": "code",
   "execution_count": 138,
   "id": "b98314e1",
   "metadata": {},
   "outputs": [
    {
     "name": "stdout",
     "output_type": "stream",
     "text": [
      "Confusion matrix: \n",
      "[[ 1 14  7  3  1]\n",
      " [ 1 11 13  0  0]\n",
      " [ 0  8 15  2  1]\n",
      " [ 1 13  8  3  1]\n",
      " [ 2 10 11  3  0]]\n"
     ]
    },
    {
     "data": {
      "image/png": "[encoded data removed]",
      "text/plain": [
       "<Figure size 576x576 with 2 Axes>"
      ]
     },
     "metadata": {
      "needs_background": "light"
     },
     "output_type": "display_data"
    },
    {
     "data": {
      "text/plain": [
       "array([[ 1, 14,  7,  3,  1],\n",
       "       [ 1, 11, 13,  0,  0],\n",
       "       [ 0,  8, 15,  2,  1],\n",
       "       [ 1, 13,  8,  3,  1],\n",
       "       [ 2, 10, 11,  3,  0]])"
      ]
     },
     "execution_count": 138,
     "metadata": {},
     "output_type": "execute_result"
    }
   ],
   "source": [
    "calc_plot_confusion_matrix(model_trained_class2, X_val, y_val)"
   ]
  },
  {
   "cell_type": "code",
   "execution_count": 139,
   "id": "0f71c7de",
   "metadata": {},
   "outputs": [
    {
     "name": "stdout",
     "output_type": "stream",
     "text": [
      "Confusion matrix: \n",
      "[[ 4 10  3  1  2]\n",
      " [ 3 11  5  1  0]\n",
      " [ 1  8  5  4  2]\n",
      " [ 1  7 10  2  0]\n",
      " [ 1  6  6  5  2]]\n"
     ]
    },
    {
     "data": {
      "image/png": "[encoded data removed]",
      "text/plain": [
       "<Figure size 576x576 with 2 Axes>"
      ]
     },
     "metadata": {
      "needs_background": "light"
     },
     "output_type": "display_data"
    }
   ],
   "source": [
    "class2_conf_mat_test = calc_plot_confusion_matrix(model_trained_class2, X_test, y_test)"
   ]
  },
  {
   "cell_type": "code",
   "execution_count": 140,
   "id": "64363246",
   "metadata": {},
   "outputs": [
    {
     "name": "stdout",
     "output_type": "stream",
     "text": [
      "Overall accuracy: 0.240\n"
     ]
    }
   ],
   "source": [
    "t0p0, t0p1, t0p2, t0p3, t0p4, t1p0, t1p1, t1p2, t1p3, t1p4, t2p0, t2p1, t2p2, t2p3, t2p4, t3p0, t3p1, t3p2, t3p3, t3p4, t4p0, t4p1, t4p2, t4p3, t4p4 =class2_conf_mat_test.ravel()\n",
    "Accuracy = (t0p0+t1p1+t2p2+t3p3+t4p4)/ (t0p0+t0p1+t0p2+t0p3+t0p4+t1p0+t1p1+t1p2+t1p3+t1p4+t2p0+t2p1+t2p2+t2p3+t2p4+t3p0+t3p1+t3p2+t3p3+t3p4+t4p0+t4p1+t4p2+t4p3+t4p4)\n",
    "print(f\"Overall accuracy: {Accuracy:.3f}\")"
   ]
  },
  {
   "cell_type": "markdown",
   "id": "20e50fb6",
   "metadata": {},
   "source": [
    "_____________"
   ]
  },
  {
   "cell_type": "markdown",
   "id": "b161f2e2",
   "metadata": {},
   "source": [
    "## Regression Network"
   ]
  },
  {
   "cell_type": "code",
   "execution_count": 40,
   "id": "0a8977a5",
   "metadata": {},
   "outputs": [
    {
     "data": {
      "text/plain": [
       "array([[  0., 180.],\n",
       "       [  1., 180.],\n",
       "       [  2., 180.],\n",
       "       [  3., 180.],\n",
       "       [  4., 180.]])"
      ]
     },
     "execution_count": 40,
     "metadata": {},
     "output_type": "execute_result"
    }
   ],
   "source": [
    "unique, counts = np.unique(y, return_counts=True)\n",
    "np.asarray((unique, counts)).T  "
   ]
  },
  {
   "cell_type": "code",
   "execution_count": 41,
   "id": "c0f38079",
   "metadata": {},
   "outputs": [
    {
     "data": {
      "text/plain": [
       "array([[  1., 180.],\n",
       "       [  2., 180.],\n",
       "       [  3., 180.],\n",
       "       [  4., 180.],\n",
       "       [  6., 180.]])"
      ]
     },
     "execution_count": 41,
     "metadata": {},
     "output_type": "execute_result"
    }
   ],
   "source": [
    "y_reg = y.copy()\n",
    "for i in range(0,y.shape[0]-180):\n",
    "    y_reg[i]+=1\n",
    "for i in range(1,181):\n",
    "    y_reg[-i]+=2\n",
    "unique, counts = np.unique(y_reg, return_counts=True)\n",
    "np.asarray((unique, counts)).T  \n",
    "    "
   ]
  },
  {
   "cell_type": "code",
   "execution_count": 42,
   "id": "bcf273f6",
   "metadata": {},
   "outputs": [],
   "source": [
    "X_train_reg, X_val_reg, y_train_reg, y_val_reg = train_test_split(X, y_reg, test_size=1.0/7, stratify=y_reg, shuffle=True, random_state=42)"
   ]
  },
  {
   "cell_type": "code",
   "execution_count": 43,
   "id": "226973fa",
   "metadata": {},
   "outputs": [
    {
     "name": "stdout",
     "output_type": "stream",
     "text": [
      "Model: \"model\"\n",
      "_________________________________________________________________\n",
      "Layer (type)                 Output Shape              Param #   \n",
      "=================================================================\n",
      "input_1 (InputLayer)         [(None, 64, 64, 3)]       0         \n",
      "_________________________________________________________________\n",
      "block1_conv1 (Conv2D)        (None, 64, 64, 64)        1792      \n",
      "_________________________________________________________________\n",
      "block1_conv2 (Conv2D)        (None, 64, 64, 64)        36928     \n",
      "_________________________________________________________________\n",
      "block1_pool (MaxPooling2D)   (None, 32, 32, 64)        0         \n",
      "_________________________________________________________________\n",
      "block2_conv1 (Conv2D)        (None, 32, 32, 128)       73856     \n",
      "_________________________________________________________________\n",
      "block2_conv2 (Conv2D)        (None, 32, 32, 128)       147584    \n",
      "_________________________________________________________________\n",
      "block2_pool (MaxPooling2D)   (None, 16, 16, 128)       0         \n",
      "=================================================================\n",
      "Total params: 260,160\n",
      "Trainable params: 0\n",
      "Non-trainable params: 260,160\n",
      "_________________________________________________________________\n"
     ]
    }
   ],
   "source": [
    "vgg_model_base.summary()"
   ]
  },
  {
   "cell_type": "code",
   "execution_count": 86,
   "id": "532871f6",
   "metadata": {},
   "outputs": [],
   "source": [
    "from tensorflow.keras import backend as K\n",
    "from tensorflow.keras.layers import LeakyReLU\n",
    "def relu_advanced(x):\n",
    "    return K.relu(x, max_value=6)\n"
   ]
  },
  {
   "cell_type": "code",
   "execution_count": 90,
   "id": "122a5507",
   "metadata": {},
   "outputs": [
    {
     "name": "stdout",
     "output_type": "stream",
     "text": [
      "Model: \"model_10\"\n",
      "_________________________________________________________________\n",
      "Layer (type)                 Output Shape              Param #   \n",
      "=================================================================\n",
      "input_1 (InputLayer)         [(None, 64, 64, 3)]       0         \n",
      "_________________________________________________________________\n",
      "block1_conv1 (Conv2D)        (None, 64, 64, 64)        1792      \n",
      "_________________________________________________________________\n",
      "block1_conv2 (Conv2D)        (None, 64, 64, 64)        36928     \n",
      "_________________________________________________________________\n",
      "block1_pool (MaxPooling2D)   (None, 32, 32, 64)        0         \n",
      "_________________________________________________________________\n",
      "block2_conv1 (Conv2D)        (None, 32, 32, 128)       73856     \n",
      "_________________________________________________________________\n",
      "block2_conv2 (Conv2D)        (None, 32, 32, 128)       147584    \n",
      "_________________________________________________________________\n",
      "block2_pool (MaxPooling2D)   (None, 16, 16, 128)       0         \n",
      "_________________________________________________________________\n",
      "dense_34 (Dense)             (None, 16, 16, 32)        4128      \n",
      "_________________________________________________________________\n",
      "flatten_13 (Flatten)         (None, 8192)              0         \n",
      "_________________________________________________________________\n",
      "dense_35 (Dense)             (None, 32)                262176    \n",
      "_________________________________________________________________\n",
      "leaky_re_lu_3 (LeakyReLU)    (None, 32)                0         \n",
      "_________________________________________________________________\n",
      "dense_36 (Dense)             (None, 1)                 33        \n",
      "=================================================================\n",
      "Total params: 526,497\n",
      "Trainable params: 266,337\n",
      "Non-trainable params: 260,160\n",
      "_________________________________________________________________\n"
     ]
    }
   ],
   "source": [
    "x = vgg_model_base.layers[-1].output\n",
    "\n",
    "predictions = Dense(32, activation = 'sigmoid')(x)\n",
    "predictions = Flatten()(predictions)\n",
    "predictions = Dense(32, activation = 'sigmoid')(predictions)\n",
    "# predictions = Dense(1, activation=relu_advanced)(predictions)\n",
    "predictions = LeakyReLU(1) (predictions)\n",
    "predictions = Dense(1, activation=relu_advanced)(predictions)\n",
    "vgg_model_reg = Model(inputs=vgg_model_base.input, outputs=predictions) \n",
    "vgg_model_reg.summary()"
   ]
  },
  {
   "cell_type": "code",
   "execution_count": 91,
   "id": "3aa51b6a",
   "metadata": {},
   "outputs": [
    {
     "name": "stdout",
     "output_type": "stream",
     "text": [
      "Epoch 1/16\n",
      "13/13 [==============================] - 5s 353ms/step - loss: 5.6240 - mean_squared_error: 5.6240 - val_loss: 2.9109 - val_mean_squared_error: 2.9109\n",
      "Epoch 2/16\n",
      "13/13 [==============================] - 5s 353ms/step - loss: 2.9773 - mean_squared_error: 2.9773 - val_loss: 2.8989 - val_mean_squared_error: 2.8989\n",
      "Epoch 3/16\n",
      "13/13 [==============================] - 4s 339ms/step - loss: 2.7594 - mean_squared_error: 2.7594 - val_loss: 2.8899 - val_mean_squared_error: 2.8899\n",
      "Epoch 4/16\n",
      "13/13 [==============================] - 4s 339ms/step - loss: 2.9350 - mean_squared_error: 2.9350 - val_loss: 2.8865 - val_mean_squared_error: 2.8865\n",
      "Epoch 5/16\n",
      "13/13 [==============================] - 5s 357ms/step - loss: 2.9155 - mean_squared_error: 2.9155 - val_loss: 2.8747 - val_mean_squared_error: 2.8747\n",
      "Epoch 6/16\n",
      "13/13 [==============================] - 4s 334ms/step - loss: 2.8588 - mean_squared_error: 2.8588 - val_loss: 2.9397 - val_mean_squared_error: 2.9397\n",
      "Epoch 7/16\n",
      "13/13 [==============================] - 4s 339ms/step - loss: 3.0730 - mean_squared_error: 3.0730 - val_loss: 2.8487 - val_mean_squared_error: 2.8487\n",
      "Epoch 8/16\n",
      "13/13 [==============================] - 5s 364ms/step - loss: 2.9271 - mean_squared_error: 2.9271 - val_loss: 2.8378 - val_mean_squared_error: 2.8378\n",
      "Epoch 9/16\n",
      "13/13 [==============================] - 5s 359ms/step - loss: 2.8007 - mean_squared_error: 2.8007 - val_loss: 2.9002 - val_mean_squared_error: 2.9002\n",
      "Epoch 10/16\n",
      "13/13 [==============================] - 4s 344ms/step - loss: 2.8093 - mean_squared_error: 2.8093 - val_loss: 2.8391 - val_mean_squared_error: 2.8391\n",
      "Epoch 11/16\n",
      "13/13 [==============================] - 4s 335ms/step - loss: 2.7389 - mean_squared_error: 2.7389 - val_loss: 2.8738 - val_mean_squared_error: 2.8738\n",
      "Epoch 12/16\n",
      "13/13 [==============================] - 5s 360ms/step - loss: 2.8284 - mean_squared_error: 2.8284 - val_loss: 2.8264 - val_mean_squared_error: 2.8264\n",
      "Epoch 13/16\n",
      "13/13 [==============================] - 5s 361ms/step - loss: 2.6636 - mean_squared_error: 2.6636 - val_loss: 2.8059 - val_mean_squared_error: 2.8059\n",
      "Epoch 14/16\n",
      "13/13 [==============================] - 5s 361ms/step - loss: 2.8333 - mean_squared_error: 2.8333 - val_loss: 2.7997 - val_mean_squared_error: 2.7997\n",
      "Epoch 15/16\n",
      "13/13 [==============================] - 5s 353ms/step - loss: 2.6225 - mean_squared_error: 2.6225 - val_loss: 2.8642 - val_mean_squared_error: 2.8642\n",
      "Epoch 16/16\n",
      "13/13 [==============================] - 5s 354ms/step - loss: 2.8195 - mean_squared_error: 2.8195 - val_loss: 2.8151 - val_mean_squared_error: 2.8151\n"
     ]
    }
   ],
   "source": [
    "model_trained_reg, history_trained_reg = compile_train_vgg (\n",
    "    vgg_model_reg, X_train_reg, y_train_reg, X_val_reg, y_val_reg, batchSize=64, nEpochs=16,\n",
    "    loss='mean_squared_error', metrics=['mean_squared_error'])"
   ]
  },
  {
   "cell_type": "code",
   "execution_count": 92,
   "id": "9f187a7f",
   "metadata": {},
   "outputs": [
    {
     "data": {
      "image/png": "[encoded data removed]",
      "text/plain": [
       "<Figure size 432x288 with 1 Axes>"
      ]
     },
     "metadata": {
      "needs_background": "light"
     },
     "output_type": "display_data"
    }
   ],
   "source": [
    "plt.plot(history_trained_reg.history['loss'])\n",
    "plt.plot(history_trained_reg.history['val_loss'])\n",
    "plt.title('Model loss')\n",
    "plt.ylabel('Loss')\n",
    "plt.xlabel('Epoch')\n",
    "plt.legend(['train', 'validation'], loc='upper left')\n",
    "plt.show()\n"
   ]
  },
  {
   "cell_type": "code",
   "execution_count": 93,
   "id": "6cd20e7a",
   "metadata": {},
   "outputs": [
    {
     "name": "stdout",
     "output_type": "stream",
     "text": [
      "(129, 64, 64, 3) (129,)\n"
     ]
    }
   ],
   "source": [
    "y_val_predict = model_trained_reg.predict(X_val_reg)\n",
    "print(X_val.shape, y_val_predict.squeeze().shape)\n",
    "y_val_predict = y_val_predict.squeeze()\n",
    "# y_predict"
   ]
  },
  {
   "cell_type": "code",
   "execution_count": 94,
   "id": "a20be911",
   "metadata": {},
   "outputs": [
    {
     "data": {
      "text/plain": [
       "array([[ 1.,  1.],\n",
       "       [ 2.,  7.],\n",
       "       [ 3., 37.],\n",
       "       [ 4., 76.],\n",
       "       [ 6.,  8.]])"
      ]
     },
     "execution_count": 94,
     "metadata": {},
     "output_type": "execute_result"
    }
   ],
   "source": [
    "# map the predicted regression values to one of these values [1,2,3,4,6]\n",
    "from scipy.interpolate import interp1d\n",
    "m = interp1d([y_val_predict.min(), y_val_predict.max()],[1,6])\n",
    "y_val_predict_mapped = m(y_val_predict)\n",
    "\n",
    "y_val_predict_rounded = np.round(y_val_predict_mapped)\n",
    "\n",
    "for i in range(0, len(y_val_predict_rounded)):\n",
    "    \n",
    "    if y_val_predict_rounded[i] > 5.5 and y_val_predict_rounded[i] <6 :\n",
    "        y_val_predict_rounded[i] = 6\n",
    "    if y_val_predict_rounded[i] > 5 and y_val_predict_rounded[i] < 5.5 :\n",
    "        y_val_predict_rounded[i] = 4\n",
    "    if y_val_predict_rounded[i] == 5:\n",
    "        y_val_predict_rounded[i] = 4\n",
    "\n",
    "        \n",
    "unique, counts = np.unique(y_val_predict_rounded, return_counts=True)\n",
    "np.asarray((unique, counts)).T  "
   ]
  },
  {
   "cell_type": "code",
   "execution_count": 95,
   "id": "97357397",
   "metadata": {},
   "outputs": [
    {
     "name": "stdout",
     "output_type": "stream",
     "text": [
      "Confusion matrix: \n",
      "[[ 1  5 12  8  0]\n",
      " [ 0  2  5 16  2]\n",
      " [ 0  0 13 12  1]\n",
      " [ 0  0  6 16  4]\n",
      " [ 0  0  1 24  1]]\n"
     ]
    },
    {
     "data": {
      "image/png": "[encoded data removed]",
      "text/plain": [
       "<Figure size 576x576 with 2 Axes>"
      ]
     },
     "metadata": {
      "needs_background": "light"
     },
     "output_type": "display_data"
    }
   ],
   "source": [
    "conf_mx = confusion_matrix(y_val_reg, y_val_predict_rounded)\n",
    "print('Confusion matrix: \\n{0}'.format(conf_mx))\n",
    "    \n",
    "row_sums = conf_mx.sum(axis=1, keepdims=True)\n",
    "norm_conf_mx = conf_mx / row_sums\n",
    "np.fill_diagonal(norm_conf_mx, 0)\n",
    "# plt.matshow(norm_conf_mx, cmap=plt.cm.gray)\n",
    "plot_confusion_matrix(norm_conf_mx)\n",
    "plt.show()"
   ]
  },
  {
   "cell_type": "code",
   "execution_count": 96,
   "id": "9b212b41",
   "metadata": {},
   "outputs": [
    {
     "name": "stdout",
     "output_type": "stream",
     "text": [
      "(100, 64, 64, 3) (100,)\n"
     ]
    }
   ],
   "source": [
    "y_test_predict = model_trained_reg.predict(X_test)\n",
    "print(X_test.shape, y_test_predict.squeeze().shape)\n",
    "y_test_predict = y_test_predict.squeeze()"
   ]
  },
  {
   "cell_type": "code",
   "execution_count": 97,
   "id": "05005db9",
   "metadata": {},
   "outputs": [
    {
     "data": {
      "text/plain": [
       "array([[ 1.,  2.],\n",
       "       [ 2.,  9.],\n",
       "       [ 3., 40.],\n",
       "       [ 4., 48.],\n",
       "       [ 6.,  1.]])"
      ]
     },
     "execution_count": 97,
     "metadata": {},
     "output_type": "execute_result"
    }
   ],
   "source": [
    "# map the predicted regression values to one of these values [1,2,3,4,6]\n",
    "m = interp1d([y_test_predict.min(), y_test_predict.max()],[1,6])\n",
    "y_test_predict_mapped = m(y_test_predict)\n",
    "\n",
    "y_test_predict_rounded = np.round(y_test_predict_mapped)\n",
    "\n",
    "for i in range(0, len(y_test_predict_rounded)):\n",
    "    \n",
    "    if y_test_predict_rounded[i] > 5.5 and y_test_predict_rounded[i] <6 :\n",
    "        y_test_predict_rounded[i] = 6\n",
    "    if y_test_predict_rounded[i] > 5 and y_test_predict_rounded[i] < 5.5 :\n",
    "        y_test_predict_rounded[i] = 4\n",
    "    if y_test_predict_rounded[i] == 5:\n",
    "        y_test_predict_rounded[i] = 4\n",
    "\n",
    "        \n",
    "unique, counts = np.unique(y_test_predict_rounded, return_counts=True)\n",
    "np.asarray((unique, counts)).T "
   ]
  },
  {
   "cell_type": "code",
   "execution_count": 98,
   "id": "f2c5d189",
   "metadata": {},
   "outputs": [
    {
     "data": {
      "text/plain": [
       "array([[ 0., 20.],\n",
       "       [ 1., 20.],\n",
       "       [ 2., 20.],\n",
       "       [ 3., 20.],\n",
       "       [ 4., 20.]])"
      ]
     },
     "execution_count": 98,
     "metadata": {},
     "output_type": "execute_result"
    }
   ],
   "source": [
    "unique, counts = np.unique(y_test, return_counts=True)\n",
    "np.asarray((unique, counts)).T "
   ]
  },
  {
   "cell_type": "code",
   "execution_count": 99,
   "id": "c63a667c",
   "metadata": {},
   "outputs": [
    {
     "data": {
      "text/plain": [
       "array([[ 1., 20.],\n",
       "       [ 2., 20.],\n",
       "       [ 3., 20.],\n",
       "       [ 4., 20.],\n",
       "       [ 6., 20.]])"
      ]
     },
     "execution_count": 99,
     "metadata": {},
     "output_type": "execute_result"
    }
   ],
   "source": [
    "y_test_reg = y_test.copy()\n",
    "for i in range(0,y_test.shape[0]-20):\n",
    "    y_test_reg[i]+=1\n",
    "for i in range(1,21):\n",
    "    y_test_reg[-i]+=2\n",
    "unique, counts = np.unique(y_test_reg, return_counts=True)\n",
    "np.asarray((unique, counts)).T  \n",
    "   "
   ]
  },
  {
   "cell_type": "code",
   "execution_count": 100,
   "id": "f3d00c52",
   "metadata": {},
   "outputs": [
    {
     "name": "stdout",
     "output_type": "stream",
     "text": [
      "Confusion matrix: \n",
      "[[ 1  4 11  4  0]\n",
      " [ 1  3 10  6  0]\n",
      " [ 0  1  7 12  0]\n",
      " [ 0  0  8 11  1]\n",
      " [ 0  1  4 15  0]]\n"
     ]
    },
    {
     "data": {
      "image/png": "[encoded data removed]",
      "text/plain": [
       "<Figure size 576x576 with 2 Axes>"
      ]
     },
     "metadata": {
      "needs_background": "light"
     },
     "output_type": "display_data"
    }
   ],
   "source": [
    "conf_mx = confusion_matrix(y_test_reg, y_test_predict_rounded)\n",
    "print('Confusion matrix: \\n{0}'.format(conf_mx))\n",
    "    \n",
    "row_sums = conf_mx.sum(axis=1, keepdims=True)\n",
    "norm_conf_mx = conf_mx / row_sums\n",
    "np.fill_diagonal(norm_conf_mx, 0)\n",
    "# plt.matshow(norm_conf_mx, cmap=plt.cm.gray)\n",
    "plot_confusion_matrix(norm_conf_mx)\n",
    "plt.show()"
   ]
  },
  {
   "cell_type": "markdown",
   "id": "dcab4ad5",
   "metadata": {},
   "source": [
    "## Discussion\n",
    "#### The size of the training data is quite small. Discuss based on your learning curves if overfitting is occurring with your networks in Classification and Regression."
   ]
  },
  {
   "cell_type": "markdown",
   "id": "535f5f93",
   "metadata": {},
   "source": [
    "    By looking at the learning curves of our classification network, we can see that the train accuracy is higher than the validation accuracy. Moreover, the test accuracy is also lower than the train accuracy. This is a sign of overfitting. In general, the accuracies scores are small, this could be due to the small dataset or the model not being complex enough to capture all the details.\n",
    "    We can see the same thing by looking at the Regression loss curves: The validation loss is higher than the train loss which in the same sense is also a sign of overfitting.\n",
    "    \n",
    "    To overcome the overfitting proplem we need to apply regularization to the model i.e. increase the model ability to generalize the prediction by regularization methods like BatchNormalization or Dropout layers or a mix of many others. This will help the model not to memorize the provided small dataset to be able to generalize easier.\n",
    "    \n",
    "    Keep in mind that I preserved the train and validation sets so that we can compare them to the following modified models."
   ]
  },
  {
   "cell_type": "markdown",
   "id": "2dad8de4",
   "metadata": {},
   "source": [
    "_____________"
   ]
  },
  {
   "cell_type": "markdown",
   "id": "f70084a2",
   "metadata": {},
   "source": [
    "## Regularization\n",
    "### Picked classification : \n",
    "    model_trained_class2"
   ]
  },
  {
   "cell_type": "code",
   "execution_count": 63,
   "id": "3b945298",
   "metadata": {},
   "outputs": [
    {
     "data": {
      "text/plain": [
       "((900, 64, 64, 3),\n",
       " (900,),\n",
       " (100, 64, 64, 3),\n",
       " (100,),\n",
       " (771, 64, 64, 3),\n",
       " (771,),\n",
       " (129, 64, 64, 3),\n",
       " (129,))"
      ]
     },
     "execution_count": 63,
     "metadata": {},
     "output_type": "execute_result"
    }
   ],
   "source": [
    "# make sure data is still intact\n",
    "X.shape, y.shape, X_test.shape, y_test.shape, X_train.shape, y_train.shape, X_val.shape, y_val.shape"
   ]
  },
  {
   "cell_type": "code",
   "execution_count": 230,
   "id": "d00f03aa",
   "metadata": {},
   "outputs": [],
   "source": [
    "# X_train, X_val, y_train, y_val = train_test_split(X, y, test_size=1.0/7, stratify=y, shuffle=True, random_state=42)"
   ]
  },
  {
   "cell_type": "code",
   "execution_count": 64,
   "id": "0c4aac72",
   "metadata": {},
   "outputs": [
    {
     "name": "stdout",
     "output_type": "stream",
     "text": [
      "Model: \"model\"\n",
      "_________________________________________________________________\n",
      "Layer (type)                 Output Shape              Param #   \n",
      "=================================================================\n",
      "input_1 (InputLayer)         [(None, 64, 64, 3)]       0         \n",
      "_________________________________________________________________\n",
      "block1_conv1 (Conv2D)        (None, 64, 64, 64)        1792      \n",
      "_________________________________________________________________\n",
      "block1_conv2 (Conv2D)        (None, 64, 64, 64)        36928     \n",
      "_________________________________________________________________\n",
      "block1_pool (MaxPooling2D)   (None, 32, 32, 64)        0         \n",
      "_________________________________________________________________\n",
      "block2_conv1 (Conv2D)        (None, 32, 32, 128)       73856     \n",
      "_________________________________________________________________\n",
      "block2_conv2 (Conv2D)        (None, 32, 32, 128)       147584    \n",
      "_________________________________________________________________\n",
      "block2_pool (MaxPooling2D)   (None, 16, 16, 128)       0         \n",
      "=================================================================\n",
      "Total params: 260,160\n",
      "Trainable params: 0\n",
      "Non-trainable params: 260,160\n",
      "_________________________________________________________________\n"
     ]
    }
   ],
   "source": [
    "vgg_model_base.summary()"
   ]
  },
  {
   "cell_type": "markdown",
   "id": "9d054e5c",
   "metadata": {},
   "source": [
    "#### Try adding dropout layers + batch normalization layers"
   ]
  },
  {
   "cell_type": "code",
   "execution_count": 130,
   "id": "79572ee2",
   "metadata": {},
   "outputs": [
    {
     "name": "stdout",
     "output_type": "stream",
     "text": [
      "Model: \"model_18\"\n",
      "_________________________________________________________________\n",
      "Layer (type)                 Output Shape              Param #   \n",
      "=================================================================\n",
      "input_1 (InputLayer)         [(None, 64, 64, 3)]       0         \n",
      "_________________________________________________________________\n",
      "block1_conv1 (Conv2D)        (None, 64, 64, 64)        1792      \n",
      "_________________________________________________________________\n",
      "block1_conv2 (Conv2D)        (None, 64, 64, 64)        36928     \n",
      "_________________________________________________________________\n",
      "block1_pool (MaxPooling2D)   (None, 32, 32, 64)        0         \n",
      "_________________________________________________________________\n",
      "block2_conv1 (Conv2D)        (None, 32, 32, 128)       73856     \n",
      "_________________________________________________________________\n",
      "block2_conv2 (Conv2D)        (None, 32, 32, 128)       147584    \n",
      "_________________________________________________________________\n",
      "block2_pool (MaxPooling2D)   (None, 16, 16, 128)       0         \n",
      "_________________________________________________________________\n",
      "batch_normalization_30 (Batc (None, 16, 16, 128)       512       \n",
      "_________________________________________________________________\n",
      "dropout_22 (Dropout)         (None, 16, 16, 128)       0         \n",
      "_________________________________________________________________\n",
      "dense_58 (Dense)             (None, 16, 16, 64)        8256      \n",
      "_________________________________________________________________\n",
      "batch_normalization_31 (Batc (None, 16, 16, 64)        256       \n",
      "_________________________________________________________________\n",
      "dropout_23 (Dropout)         (None, 16, 16, 64)        0         \n",
      "_________________________________________________________________\n",
      "flatten_21 (Flatten)         (None, 16384)             0         \n",
      "_________________________________________________________________\n",
      "batch_normalization_32 (Batc (None, 16384)             65536     \n",
      "_________________________________________________________________\n",
      "dropout_24 (Dropout)         (None, 16384)             0         \n",
      "_________________________________________________________________\n",
      "dense_59 (Dense)             (None, 32)                524320    \n",
      "_________________________________________________________________\n",
      "batch_normalization_33 (Batc (None, 32)                128       \n",
      "_________________________________________________________________\n",
      "dropout_25 (Dropout)         (None, 32)                0         \n",
      "_________________________________________________________________\n",
      "dense_60 (Dense)             (None, 5)                 165       \n",
      "=================================================================\n",
      "Total params: 859,333\n",
      "Trainable params: 565,957\n",
      "Non-trainable params: 293,376\n",
      "_________________________________________________________________\n"
     ]
    }
   ],
   "source": [
    "x = vgg_model_base.layers[-1].output\n",
    "\n",
    "predictions=BatchNormalization()(x)\n",
    "predictions = Dropout(0.5)(predictions)\n",
    "\n",
    "predictions = Dense(64, activation = 'sigmoid')(predictions)\n",
    "\n",
    "predictions=BatchNormalization()(predictions)\n",
    "predictions = Dropout(0.5)(predictions)\n",
    "\n",
    "predictions = Flatten()(predictions)\n",
    "\n",
    "predictions=BatchNormalization()(predictions)\n",
    "predictions = Dropout(0.5)(predictions)\n",
    "\n",
    "predictions = Dense(32, activation = 'sigmoid')(predictions)\n",
    "\n",
    "predictions=BatchNormalization()(predictions)\n",
    "predictions = Dropout(0.5)(predictions)\n",
    "\n",
    "predictions = Dense(5, activation='softmax')(predictions)\n",
    "\n",
    "vgg_model_class_regu = Model(inputs=vgg_model_base.input, outputs=predictions) \n",
    "vgg_model_class_regu.summary()"
   ]
  },
  {
   "cell_type": "code",
   "execution_count": 131,
   "id": "fe0fbc51",
   "metadata": {},
   "outputs": [],
   "source": [
    "# X_train, X_val, y_train, y_val = train_test_split(X, y, test_size=1.0/7, stratify=y, shuffle=True, random_state=42)"
   ]
  },
  {
   "cell_type": "code",
   "execution_count": 134,
   "id": "36ca2075",
   "metadata": {},
   "outputs": [
    {
     "name": "stdout",
     "output_type": "stream",
     "text": [
      "Epoch 1/32\n",
      "7/7 [==============================] - 6s 753ms/step - loss: 2.3424 - accuracy: 0.2355 - val_loss: 1.5528 - val_accuracy: 0.3023\n",
      "Epoch 2/32\n",
      "7/7 [==============================] - 5s 617ms/step - loss: 2.3687 - accuracy: 0.2216 - val_loss: 1.5489 - val_accuracy: 0.3023\n",
      "Epoch 3/32\n",
      "7/7 [==============================] - 4s 654ms/step - loss: 2.2286 - accuracy: 0.2562 - val_loss: 1.5402 - val_accuracy: 0.3023\n",
      "Epoch 4/32\n",
      "7/7 [==============================] - 5s 739ms/step - loss: 2.3085 - accuracy: 0.2320 - val_loss: 1.5345 - val_accuracy: 0.2946\n",
      "Epoch 5/32\n",
      "7/7 [==============================] - 4s 599ms/step - loss: 2.2655 - accuracy: 0.2527 - val_loss: 1.5287 - val_accuracy: 0.3101\n",
      "Epoch 6/32\n",
      "7/7 [==============================] - 4s 599ms/step - loss: 2.2223 - accuracy: 0.2612 - val_loss: 1.5235 - val_accuracy: 0.3023\n",
      "Epoch 7/32\n",
      "7/7 [==============================] - 4s 595ms/step - loss: 2.2164 - accuracy: 0.2671 - val_loss: 1.5163 - val_accuracy: 0.3101\n",
      "Epoch 8/32\n",
      "7/7 [==============================] - 4s 596ms/step - loss: 2.2013 - accuracy: 0.2521 - val_loss: 1.5103 - val_accuracy: 0.3256\n",
      "Epoch 9/32\n",
      "7/7 [==============================] - 5s 662ms/step - loss: 2.1908 - accuracy: 0.2674 - val_loss: 1.5055 - val_accuracy: 0.3256\n",
      "Epoch 10/32\n",
      "7/7 [==============================] - 4s 591ms/step - loss: 2.1631 - accuracy: 0.2620 - val_loss: 1.4990 - val_accuracy: 0.3101\n",
      "Epoch 11/32\n",
      "7/7 [==============================] - 5s 654ms/step - loss: 2.2518 - accuracy: 0.2636 - val_loss: 1.4913 - val_accuracy: 0.3178\n",
      "Epoch 12/32\n",
      "7/7 [==============================] - 5s 624ms/step - loss: 2.1814 - accuracy: 0.2595 - val_loss: 1.4874 - val_accuracy: 0.3178\n",
      "Epoch 13/32\n",
      "7/7 [==============================] - 5s 670ms/step - loss: 2.1443 - accuracy: 0.2725 - val_loss: 1.4843 - val_accuracy: 0.3333\n",
      "Epoch 14/32\n",
      "7/7 [==============================] - 5s 708ms/step - loss: 2.2076 - accuracy: 0.2551 - val_loss: 1.4755 - val_accuracy: 0.3411\n",
      "Epoch 15/32\n",
      "7/7 [==============================] - 4s 615ms/step - loss: 2.1472 - accuracy: 0.2877 - val_loss: 1.4691 - val_accuracy: 0.3411\n",
      "Epoch 16/32\n",
      "7/7 [==============================] - 4s 601ms/step - loss: 2.1729 - accuracy: 0.2842 - val_loss: 1.4602 - val_accuracy: 0.3411\n",
      "Epoch 17/32\n",
      "7/7 [==============================] - 5s 661ms/step - loss: 2.1732 - accuracy: 0.2564 - val_loss: 1.4543 - val_accuracy: 0.3566\n",
      "Epoch 18/32\n",
      "7/7 [==============================] - 5s 663ms/step - loss: 2.0990 - accuracy: 0.2825 - val_loss: 1.4509 - val_accuracy: 0.3721\n",
      "Epoch 19/32\n",
      "7/7 [==============================] - 4s 658ms/step - loss: 2.1391 - accuracy: 0.2929 - val_loss: 1.4489 - val_accuracy: 0.3643\n",
      "Epoch 20/32\n",
      "7/7 [==============================] - 5s 700ms/step - loss: 2.0547 - accuracy: 0.2683 - val_loss: 1.4421 - val_accuracy: 0.3643\n",
      "Epoch 21/32\n",
      "7/7 [==============================] - 5s 636ms/step - loss: 2.1277 - accuracy: 0.2681 - val_loss: 1.4354 - val_accuracy: 0.3876\n",
      "Epoch 22/32\n",
      "7/7 [==============================] - 4s 589ms/step - loss: 1.9730 - accuracy: 0.2969 - val_loss: 1.4324 - val_accuracy: 0.3876\n",
      "Epoch 23/32\n",
      "7/7 [==============================] - 5s 646ms/step - loss: 1.9747 - accuracy: 0.2745 - val_loss: 1.4256 - val_accuracy: 0.4031\n",
      "Epoch 24/32\n",
      "7/7 [==============================] - 4s 624ms/step - loss: 1.9509 - accuracy: 0.2991 - val_loss: 1.4182 - val_accuracy: 0.4109\n",
      "Epoch 25/32\n",
      "7/7 [==============================] - 4s 576ms/step - loss: 2.0441 - accuracy: 0.3013 - val_loss: 1.4127 - val_accuracy: 0.4109\n",
      "Epoch 26/32\n",
      "7/7 [==============================] - 4s 612ms/step - loss: 1.9642 - accuracy: 0.3006 - val_loss: 1.4103 - val_accuracy: 0.4186\n",
      "Epoch 27/32\n",
      "7/7 [==============================] - 4s 592ms/step - loss: 1.9242 - accuracy: 0.3324 - val_loss: 1.4056 - val_accuracy: 0.4186\n",
      "Epoch 28/32\n",
      "7/7 [==============================] - 5s 627ms/step - loss: 1.9651 - accuracy: 0.3199 - val_loss: 1.4006 - val_accuracy: 0.4186\n",
      "Epoch 29/32\n",
      "7/7 [==============================] - 4s 613ms/step - loss: 2.0371 - accuracy: 0.2911 - val_loss: 1.4025 - val_accuracy: 0.4186\n",
      "Epoch 30/32\n",
      "7/7 [==============================] - 4s 605ms/step - loss: 2.0351 - accuracy: 0.2988 - val_loss: 1.3988 - val_accuracy: 0.4186\n",
      "Epoch 31/32\n",
      "7/7 [==============================] - 6s 847ms/step - loss: 2.0373 - accuracy: 0.3068 - val_loss: 1.3960 - val_accuracy: 0.4186\n",
      "Epoch 32/32\n",
      "7/7 [==============================] - 6s 868ms/step - loss: 1.9995 - accuracy: 0.3175 - val_loss: 1.3933 - val_accuracy: 0.4186\n"
     ]
    }
   ],
   "source": [
    "trained_class_regu, history_trained_class_regu = compile_train_vgg (vgg_model_class_regu, X_train, y_train, X_val, y_val, batchSize=128, nEpochs=32, loss='sparse_categorical_crossentropy')"
   ]
  },
  {
   "cell_type": "code",
   "execution_count": 135,
   "id": "97ccad85",
   "metadata": {},
   "outputs": [
    {
     "data": {
      "image/png": "[encoded data removed]",
      "text/plain": [
       "<Figure size 432x288 with 1 Axes>"
      ]
     },
     "metadata": {
      "needs_background": "light"
     },
     "output_type": "display_data"
    },
    {
     "data": {
      "image/png": "[encoded data removed]",
      "text/plain": [
       "<Figure size 432x288 with 1 Axes>"
      ]
     },
     "metadata": {
      "needs_background": "light"
     },
     "output_type": "display_data"
    }
   ],
   "source": [
    "plot_learning_curves(history_trained_class_regu)"
   ]
  },
  {
   "cell_type": "code",
   "execution_count": 153,
   "id": "e562f978",
   "metadata": {},
   "outputs": [
    {
     "name": "stdout",
     "output_type": "stream",
     "text": [
      "Confusion matrix: \n",
      "[[144   4   4   1   1]\n",
      " [ 22 117   2   9   5]\n",
      " [ 19  14  93  15  13]\n",
      " [  6   4   4 131   9]\n",
      " [  5   4   4  21 120]]\n"
     ]
    },
    {
     "data": {
      "image/png": "[encoded data removed]",
      "text/plain": [
       "<Figure size 576x576 with 2 Axes>"
      ]
     },
     "metadata": {
      "needs_background": "light"
     },
     "output_type": "display_data"
    },
    {
     "data": {
      "text/plain": [
       "array([[144,   4,   4,   1,   1],\n",
       "       [ 22, 117,   2,   9,   5],\n",
       "       [ 19,  14,  93,  15,  13],\n",
       "       [  6,   4,   4, 131,   9],\n",
       "       [  5,   4,   4,  21, 120]])"
      ]
     },
     "execution_count": 153,
     "metadata": {},
     "output_type": "execute_result"
    }
   ],
   "source": [
    "calc_plot_confusion_matrix(trained_class_regu, X_train, y_train)"
   ]
  },
  {
   "cell_type": "code",
   "execution_count": 141,
   "id": "65264f90",
   "metadata": {},
   "outputs": [
    {
     "name": "stdout",
     "output_type": "stream",
     "text": [
      "Confusion matrix: \n",
      "[[19  2  3  2  0]\n",
      " [ 8  7  5  3  2]\n",
      " [ 8  7  5  2  4]\n",
      " [ 1  1  7 15  2]\n",
      " [ 5  5  4  4  8]]\n"
     ]
    },
    {
     "data": {
      "image/png": "[encoded data removed]",
      "text/plain": [
       "<Figure size 576x576 with 2 Axes>"
      ]
     },
     "metadata": {
      "needs_background": "light"
     },
     "output_type": "display_data"
    },
    {
     "data": {
      "text/plain": [
       "array([[19,  2,  3,  2,  0],\n",
       "       [ 8,  7,  5,  3,  2],\n",
       "       [ 8,  7,  5,  2,  4],\n",
       "       [ 1,  1,  7, 15,  2],\n",
       "       [ 5,  5,  4,  4,  8]])"
      ]
     },
     "execution_count": 141,
     "metadata": {},
     "output_type": "execute_result"
    }
   ],
   "source": [
    "calc_plot_confusion_matrix(trained_class_regu, X_val, y_val)"
   ]
  },
  {
   "cell_type": "code",
   "execution_count": 142,
   "id": "8715fc30",
   "metadata": {},
   "outputs": [
    {
     "name": "stdout",
     "output_type": "stream",
     "text": [
      "Confusion matrix: \n",
      "[[12  4  3  0  1]\n",
      " [10  4  4  1  1]\n",
      " [ 4  6  5  4  1]\n",
      " [ 2  2  2  6  8]\n",
      " [ 1  3  2  4 10]]\n"
     ]
    },
    {
     "data": {
      "image/png": "[encoded data removed]",
      "text/plain": [
       "<Figure size 576x576 with 2 Axes>"
      ]
     },
     "metadata": {
      "needs_background": "light"
     },
     "output_type": "display_data"
    }
   ],
   "source": [
    "class_regu_test_conv_mat =calc_plot_confusion_matrix(trained_class_regu, X_test, y_test)"
   ]
  },
  {
   "cell_type": "code",
   "execution_count": 143,
   "id": "4a1b6cf4",
   "metadata": {},
   "outputs": [
    {
     "name": "stdout",
     "output_type": "stream",
     "text": [
      "Overall accuracy: 0.370\n"
     ]
    }
   ],
   "source": [
    "t0p0, t0p1, t0p2, t0p3, t0p4, t1p0, t1p1, t1p2, t1p3, t1p4, t2p0, t2p1, t2p2, t2p3, t2p4, t3p0, t3p1, t3p2, t3p3, t3p4, t4p0, t4p1, t4p2, t4p3, t4p4 =class_regu_test_conv_mat.ravel()\n",
    "Accuracy = (t0p0+t1p1+t2p2+t3p3+t4p4)/ (t0p0+t0p1+t0p2+t0p3+t0p4+t1p0+t1p1+t1p2+t1p3+t1p4+t2p0+t2p1+t2p2+t2p3+t2p4+t3p0+t3p1+t3p2+t3p3+t3p4+t4p0+t4p1+t4p2+t4p3+t4p4)\n",
    "print(f\"Overall accuracy: {Accuracy:.3f}\")"
   ]
  },
  {
   "cell_type": "markdown",
   "id": "429accee",
   "metadata": {},
   "source": [
    "______________"
   ]
  },
  {
   "cell_type": "markdown",
   "id": "6d3ac609",
   "metadata": {},
   "source": [
    "## Data Augmentation\n",
    "### Work on last step's model: \n",
    "    trained_class_regu"
   ]
  },
  {
   "cell_type": "code",
   "execution_count": 144,
   "id": "10548b6a",
   "metadata": {},
   "outputs": [
    {
     "data": {
      "text/plain": [
       "((900, 64, 64, 3), (900,), (100, 64, 64, 3), (100,))"
      ]
     },
     "execution_count": 144,
     "metadata": {},
     "output_type": "execute_result"
    }
   ],
   "source": [
    "# again just make sure the data is intact\n",
    "X.shape, y.shape, X_test.shape, y_test.shape"
   ]
  },
  {
   "cell_type": "code",
   "execution_count": 145,
   "id": "565a9d38",
   "metadata": {},
   "outputs": [],
   "source": [
    "# X_train, X_val, y_train, y_val = train_test_split(X, y, test_size=1.0/7, stratify=y, shuffle=True, random_state=42)"
   ]
  },
  {
   "cell_type": "code",
   "execution_count": 146,
   "id": "72a4d001",
   "metadata": {},
   "outputs": [
    {
     "name": "stdout",
     "output_type": "stream",
     "text": [
      "Epoch 1/32\n",
      "25/25 [==============================] - 8s 313ms/step - loss: 2.0147 - accuracy: 0.2918 - val_loss: 1.3843 - val_accuracy: 0.4031\n",
      "Epoch 2/32\n",
      "25/25 [==============================] - 8s 310ms/step - loss: 2.0346 - accuracy: 0.2983 - val_loss: 1.3777 - val_accuracy: 0.4264\n",
      "Epoch 3/32\n",
      "25/25 [==============================] - 8s 325ms/step - loss: 2.0360 - accuracy: 0.3191 - val_loss: 1.3777 - val_accuracy: 0.4186\n",
      "Epoch 4/32\n",
      "25/25 [==============================] - 8s 338ms/step - loss: 1.8798 - accuracy: 0.3178 - val_loss: 1.3772 - val_accuracy: 0.4341\n",
      "Epoch 5/32\n",
      "25/25 [==============================] - 8s 332ms/step - loss: 1.8643 - accuracy: 0.3113 - val_loss: 1.3699 - val_accuracy: 0.4419\n",
      "Epoch 6/32\n",
      "25/25 [==============================] - 8s 337ms/step - loss: 1.8837 - accuracy: 0.2970 - val_loss: 1.3579 - val_accuracy: 0.4419\n",
      "Epoch 7/32\n",
      "25/25 [==============================] - 10s 387ms/step - loss: 1.8611 - accuracy: 0.3489 - val_loss: 1.3505 - val_accuracy: 0.4574\n",
      "Epoch 8/32\n",
      "25/25 [==============================] - 9s 359ms/step - loss: 1.8511 - accuracy: 0.3372 - val_loss: 1.3513 - val_accuracy: 0.4574\n",
      "Epoch 9/32\n",
      "25/25 [==============================] - 8s 341ms/step - loss: 1.8172 - accuracy: 0.3100 - val_loss: 1.3530 - val_accuracy: 0.4651\n",
      "Epoch 10/32\n",
      "25/25 [==============================] - 8s 316ms/step - loss: 1.7566 - accuracy: 0.3658 - val_loss: 1.3474 - val_accuracy: 0.4651\n",
      "Epoch 11/32\n",
      "25/25 [==============================] - 9s 349ms/step - loss: 1.7303 - accuracy: 0.3541 - val_loss: 1.3475 - val_accuracy: 0.4574\n",
      "Epoch 12/32\n",
      "25/25 [==============================] - 8s 322ms/step - loss: 1.7513 - accuracy: 0.3450 - val_loss: 1.3411 - val_accuracy: 0.4729\n",
      "Epoch 13/32\n",
      "25/25 [==============================] - 8s 317ms/step - loss: 1.7509 - accuracy: 0.3554 - val_loss: 1.3372 - val_accuracy: 0.4729\n",
      "Epoch 14/32\n",
      "25/25 [==============================] - 8s 319ms/step - loss: 1.6937 - accuracy: 0.3567 - val_loss: 1.3373 - val_accuracy: 0.4574\n",
      "Epoch 15/32\n",
      "25/25 [==============================] - 8s 309ms/step - loss: 1.6638 - accuracy: 0.3813 - val_loss: 1.3373 - val_accuracy: 0.4651\n",
      "Epoch 16/32\n",
      "25/25 [==============================] - 8s 313ms/step - loss: 1.7051 - accuracy: 0.3671 - val_loss: 1.3266 - val_accuracy: 0.4806\n",
      "Epoch 17/32\n",
      "25/25 [==============================] - 8s 307ms/step - loss: 1.6398 - accuracy: 0.3865 - val_loss: 1.3237 - val_accuracy: 0.4806\n",
      "Epoch 18/32\n",
      "25/25 [==============================] - 8s 318ms/step - loss: 1.5554 - accuracy: 0.4047 - val_loss: 1.3273 - val_accuracy: 0.4574\n",
      "Epoch 19/32\n",
      "25/25 [==============================] - 8s 322ms/step - loss: 1.5579 - accuracy: 0.4384 - val_loss: 1.3238 - val_accuracy: 0.4651\n",
      "Epoch 20/32\n",
      "25/25 [==============================] - 8s 331ms/step - loss: 1.6402 - accuracy: 0.3606 - val_loss: 1.3169 - val_accuracy: 0.4884\n",
      "Epoch 21/32\n",
      "25/25 [==============================] - 8s 312ms/step - loss: 1.5932 - accuracy: 0.3917 - val_loss: 1.3171 - val_accuracy: 0.4806\n",
      "Epoch 22/32\n",
      "25/25 [==============================] - 8s 322ms/step - loss: 1.5600 - accuracy: 0.4241 - val_loss: 1.3127 - val_accuracy: 0.4961\n",
      "Epoch 23/32\n",
      "25/25 [==============================] - 8s 319ms/step - loss: 1.5543 - accuracy: 0.4060 - val_loss: 1.3135 - val_accuracy: 0.4884\n",
      "Epoch 24/32\n",
      "25/25 [==============================] - 8s 324ms/step - loss: 1.5298 - accuracy: 0.4034 - val_loss: 1.3097 - val_accuracy: 0.4884\n",
      "Epoch 25/32\n",
      "25/25 [==============================] - 8s 307ms/step - loss: 1.5295 - accuracy: 0.4163 - val_loss: 1.3050 - val_accuracy: 0.4884\n",
      "Epoch 26/32\n",
      "25/25 [==============================] - 8s 310ms/step - loss: 1.4877 - accuracy: 0.4462 - val_loss: 1.3055 - val_accuracy: 0.4884\n",
      "Epoch 27/32\n",
      "25/25 [==============================] - 8s 327ms/step - loss: 1.4848 - accuracy: 0.4319 - val_loss: 1.3023 - val_accuracy: 0.4884\n",
      "Epoch 28/32\n",
      "25/25 [==============================] - 8s 328ms/step - loss: 1.5296 - accuracy: 0.4358 - val_loss: 1.2849 - val_accuracy: 0.5116\n",
      "Epoch 29/32\n",
      "25/25 [==============================] - 8s 308ms/step - loss: 1.5222 - accuracy: 0.4137 - val_loss: 1.2826 - val_accuracy: 0.5116\n",
      "Epoch 30/32\n",
      "25/25 [==============================] - 8s 314ms/step - loss: 1.4863 - accuracy: 0.4228 - val_loss: 1.2830 - val_accuracy: 0.5039\n",
      "Epoch 31/32\n",
      "25/25 [==============================] - 7s 298ms/step - loss: 1.4354 - accuracy: 0.4423 - val_loss: 1.2796 - val_accuracy: 0.5039\n",
      "Epoch 32/32\n",
      "25/25 [==============================] - 8s 303ms/step - loss: 1.4381 - accuracy: 0.4163 - val_loss: 1.2810 - val_accuracy: 0.4961\n"
     ]
    }
   ],
   "source": [
    "from tensorflow.keras.preprocessing.image import ImageDataGenerator\n",
    "# create data generator\n",
    "datagen = ImageDataGenerator()\n",
    "# create iterator\n",
    "it = datagen.flow(X_train, y_train, batch_size=32)\n",
    "# define model\n",
    "trained_class_regu_aug = trained_class_regu\n",
    "# fit model on the augmented dataset\n",
    "\n",
    "trained_class_regu_aug_history = trained_class_regu_aug.fit(it, batch_size=32, epochs=32 , validation_data=(X_val, y_val))"
   ]
  },
  {
   "cell_type": "code",
   "execution_count": 147,
   "id": "06252fdb",
   "metadata": {},
   "outputs": [
    {
     "data": {
      "image/png": "[encoded data removed]",
      "text/plain": [
       "<Figure size 432x288 with 1 Axes>"
      ]
     },
     "metadata": {
      "needs_background": "light"
     },
     "output_type": "display_data"
    },
    {
     "data": {
      "image/png": "[encoded data removed]",
      "text/plain": [
       "<Figure size 432x288 with 1 Axes>"
      ]
     },
     "metadata": {
      "needs_background": "light"
     },
     "output_type": "display_data"
    }
   ],
   "source": [
    "plot_learning_curves(trained_class_regu_aug_history)"
   ]
  },
  {
   "cell_type": "code",
   "execution_count": 154,
   "id": "e9d9e4a3",
   "metadata": {},
   "outputs": [
    {
     "name": "stdout",
     "output_type": "stream",
     "text": [
      "Confusion matrix: \n",
      "[[144   4   4   1   1]\n",
      " [ 22 117   2   9   5]\n",
      " [ 19  14  93  15  13]\n",
      " [  6   4   4 131   9]\n",
      " [  5   4   4  21 120]]\n"
     ]
    },
    {
     "data": {
      "image/png": "[encoded data removed]",
      "text/plain": [
       "<Figure size 576x576 with 2 Axes>"
      ]
     },
     "metadata": {
      "needs_background": "light"
     },
     "output_type": "display_data"
    },
    {
     "data": {
      "text/plain": [
       "array([[144,   4,   4,   1,   1],\n",
       "       [ 22, 117,   2,   9,   5],\n",
       "       [ 19,  14,  93,  15,  13],\n",
       "       [  6,   4,   4, 131,   9],\n",
       "       [  5,   4,   4,  21, 120]])"
      ]
     },
     "execution_count": 154,
     "metadata": {},
     "output_type": "execute_result"
    }
   ],
   "source": [
    "calc_plot_confusion_matrix(trained_class_regu_aug, X_train, y_train)"
   ]
  },
  {
   "cell_type": "code",
   "execution_count": 148,
   "id": "22666446",
   "metadata": {},
   "outputs": [
    {
     "name": "stdout",
     "output_type": "stream",
     "text": [
      "Confusion matrix: \n",
      "[[20  0  2  2  2]\n",
      " [ 7  9  5  3  1]\n",
      " [ 6  7  5  5  3]\n",
      " [ 1  1  3 18  3]\n",
      " [ 2  4  3  5 12]]\n"
     ]
    },
    {
     "data": {
      "image/png": "[encoded data removed]",
      "text/plain": [
       "<Figure size 576x576 with 2 Axes>"
      ]
     },
     "metadata": {
      "needs_background": "light"
     },
     "output_type": "display_data"
    },
    {
     "data": {
      "text/plain": [
       "array([[20,  0,  2,  2,  2],\n",
       "       [ 7,  9,  5,  3,  1],\n",
       "       [ 6,  7,  5,  5,  3],\n",
       "       [ 1,  1,  3, 18,  3],\n",
       "       [ 2,  4,  3,  5, 12]])"
      ]
     },
     "execution_count": 148,
     "metadata": {},
     "output_type": "execute_result"
    }
   ],
   "source": [
    "calc_plot_confusion_matrix(trained_class_regu_aug, X_val, y_val)"
   ]
  },
  {
   "cell_type": "code",
   "execution_count": 149,
   "id": "b86a2565",
   "metadata": {},
   "outputs": [
    {
     "name": "stdout",
     "output_type": "stream",
     "text": [
      "Confusion matrix: \n",
      "[[11  4  3  0  2]\n",
      " [ 9  6  4  1  0]\n",
      " [ 5  5  5  3  2]\n",
      " [ 2  1  3  7  7]\n",
      " [ 1  3  1  2 13]]\n"
     ]
    },
    {
     "data": {
      "image/png": "[encoded data removed]",
      "text/plain": [
       "<Figure size 576x576 with 2 Axes>"
      ]
     },
     "metadata": {
      "needs_background": "light"
     },
     "output_type": "display_data"
    }
   ],
   "source": [
    "class_regu_aug_conv_mat = calc_plot_confusion_matrix(trained_class_regu_aug, X_test, y_test)"
   ]
  },
  {
   "cell_type": "code",
   "execution_count": 150,
   "id": "5528f3c0",
   "metadata": {},
   "outputs": [
    {
     "name": "stdout",
     "output_type": "stream",
     "text": [
      "Overall accuracy: 0.420\n"
     ]
    }
   ],
   "source": [
    "t0p0, t0p1, t0p2, t0p3, t0p4, t1p0, t1p1, t1p2, t1p3, t1p4, t2p0, t2p1, t2p2, t2p3, t2p4, t3p0, t3p1, t3p2, t3p3, t3p4, t4p0, t4p1, t4p2, t4p3, t4p4 =class_regu_aug_conv_mat.ravel()\n",
    "Accuracy = (t0p0+t1p1+t2p2+t3p3+t4p4)/ (t0p0+t0p1+t0p2+t0p3+t0p4+t1p0+t1p1+t1p2+t1p3+t1p4+t2p0+t2p1+t2p2+t2p3+t2p4+t3p0+t3p1+t3p2+t3p3+t3p4+t4p0+t4p1+t4p2+t4p3+t4p4)\n",
    "print(f\"Overall accuracy: {Accuracy:.3f}\")"
   ]
  },
  {
   "cell_type": "markdown",
   "id": "a9e0e905",
   "metadata": {},
   "source": [
    "## Discussion\n",
    "#### Discuss based on your learning curves and final metrics in Regularization and in Augmentation, how large a improvement can be observed from regularization and data augmentation."
   ]
  },
  {
   "cell_type": "markdown",
   "id": "8a6b4d85",
   "metadata": {},
   "source": [
    "    By looking at the train and validation learning curves, the confusion matrix and also the　overall test accuracy score (test: 0.37 ---> 0.42) we can clearly see the improvement in the metrics.\n",
    "    In the regularization step, we notice that the gap between the train and validation loss or accuracy (10% difference) is not small, but when we applied the simple augmentation step, we notice that this gap decreases(7%), not just that but the overall accuracy increased as well. This is a proof of the importance of increasing the number of trainset by augmentation which increases the model's ability to generalize and capture the details in a better manner.\n",
    "    I assume we can further improve these results by increasing the dataset, the data augmentation and making a balance between the model complexity increase (because of the low accuracy comparing to our application target accuracy) and the regularization (to avoid any possible overfit)."
   ]
  }
 ],
 "metadata": {
  "kernelspec": {
   "display_name": "Python 3",
   "language": "python",
   "name": "python3"
  },
  "language_info": {
   "codemirror_mode": {
    "name": "ipython",
    "version": 3
   },
   "file_extension": ".py",
   "mimetype": "text/x-python",
   "name": "python",
   "nbconvert_exporter": "python",
   "pygments_lexer": "ipython3",
   "version": "3.8.5"
  }
 },
 "nbformat": 4,
 "nbformat_minor": 5
}
